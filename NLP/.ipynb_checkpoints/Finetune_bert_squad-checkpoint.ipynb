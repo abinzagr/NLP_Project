{
 "cells": [
  {
   "cell_type": "markdown",
   "metadata": {},
   "source": [
    "# Imports"
   ]
  },
  {
   "cell_type": "code",
   "execution_count": 1,
   "metadata": {
    "colab": {
     "base_uri": "https://localhost:8080/",
     "height": 34
    },
    "colab_type": "code",
    "id": "7KVtbyMP14RV",
    "outputId": "0ea44910-1db5-49ac-cc0f-1d0a18b4f12f"
   },
   "outputs": [
    {
     "name": "stderr",
     "output_type": "stream",
     "text": [
      "UsageError: Line magic function `%tensorflow_version` not found.\n"
     ]
    }
   ],
   "source": [
    "import numpy as np # linear algebra\n",
    "import pandas as pd # data processing, CSV file I/O (e.g. pd.read_csv)\n",
    "import os\n",
    "import pprint\n",
    "%tensorflow_version 1.x\n",
    "import tensorflow as tf\n",
    "import zipfile\n",
    "from matplotlib import pyplot as plt\n",
    "%matplotlib inline\n",
    "import sys\n",
    "import datetime\n",
    "\n",
    "\n",
    "# Any results you write to the current directory are saved as output."
   ]
  },
  {
   "cell_type": "code",
   "execution_count": 10,
   "metadata": {
    "colab": {},
    "colab_type": "code",
    "id": "IOBUQwKp2Foz"
   },
   "outputs": [],
   "source": [
    "TPU_ADDRESS = None\n",
    "USE_TPU = False\n",
    "if 'COLAB_TPU_ADDR' in os.environ:\n",
    "    TPU_ADDRESS = 'grpc://' + os.environ['COLAB_TPU_ADDR']\n",
    "    print('TPU address is => ', TPU_ADDRESS)\n",
    "    USE_TPU = True"
   ]
  },
  {
   "cell_type": "code",
   "execution_count": 11,
   "metadata": {},
   "outputs": [],
   "source": [
    "OUTPUT_DIR = \"model_repo/output\"\n",
    "BERT_MODEL = 'uncased_L-12_H-768_A-12'\n",
    "BERT_PRETRAINED_DIR = \"model_repo/uncased_L-12_H-768_A-12'"
   ]
  },
  {
   "cell_type": "markdown",
   "metadata": {},
   "source": [
    "# Environment Setup"
   ]
  },
  {
   "cell_type": "markdown",
   "metadata": {},
   "source": [
    "### Model"
   ]
  },
  {
   "cell_type": "code",
   "execution_count": 13,
   "metadata": {
    "colab": {
     "base_uri": "https://localhost:8080/",
     "height": 204
    },
    "colab_type": "code",
    "id": "mJDYds-N2Igp",
    "outputId": "23bd3fc1-e0ab-4934-a5f4-a2123c37a70f"
   },
   "outputs": [
    {
     "name": "stderr",
     "output_type": "stream",
     "text": [
      "'wget' n’est pas reconnu en tant que commande interne\n",
      "ou externe, un programme exécutable ou un fichier de commandes.\n",
      "'unzip' n’est pas reconnu en tant que commande interne\n",
      "ou externe, un programme exécutable ou un fichier de commandes.\n"
     ]
    }
   ],
   "source": [
    "!wget https://storage.googleapis.com/bert_models/2018_10_18/uncased_L-12_H-768_A-12.zip\n",
    "\n",
    "!unzip uncased_L-12_H-768_A-12.zip"
   ]
  },
  {
   "cell_type": "code",
   "execution_count": 14,
   "metadata": {
    "colab": {},
    "colab_type": "code",
    "id": "HHd9sMAS2K04"
   },
   "outputs": [
    {
     "name": "stderr",
     "output_type": "stream",
     "text": [
      "'mv' n’est pas reconnu en tant que commande interne\n",
      "ou externe, un programme exécutable ou un fichier de commandes.\n"
     ]
    }
   ],
   "source": [
    "!mkdir model_repo\n",
    "!mv uncased_L-12_H-768_A-12/ model_repo/"
   ]
  },
  {
   "cell_type": "code",
   "execution_count": 15,
   "metadata": {
    "colab": {
     "base_uri": "https://localhost:8080/",
     "height": 51
    },
    "colab_type": "code",
    "id": "QTJP_pV52NP5",
    "outputId": "0a722556-3b92-4f5d-a03e-39df369619fb"
   },
   "outputs": [
    {
     "name": "stderr",
     "output_type": "stream",
     "text": [
      "'rm' n’est pas reconnu en tant que commande interne\n",
      "ou externe, un programme exécutable ou un fichier de commandes.\n"
     ]
    }
   ],
   "source": [
    "!rm uncased_L-12_H-768_A-12.zip"
   ]
  },
  {
   "cell_type": "code",
   "execution_count": 16,
   "metadata": {
    "colab": {
     "base_uri": "https://localhost:8080/",
     "height": 34
    },
    "colab_type": "code",
    "id": "4wOLiEap2Pah",
    "outputId": "ecf10bd4-f605-4d84-de9a-0ec76aa710a1"
   },
   "outputs": [
    {
     "name": "stdout",
     "output_type": "stream",
     "text": [
      "C:\\Users\\H\\Desktop\\NLP_Project\\model_repo\n",
      "C:\\Users\\H\\Desktop\\NLP_Project\n"
     ]
    },
    {
     "name": "stderr",
     "output_type": "stream",
     "text": [
      "La syntaxe de la commande n’est pas correcte.\n"
     ]
    }
   ],
   "source": [
    "%cd ./model_repo/\n",
    "!mkdir output/\n",
    "%cd ../"
   ]
  },
  {
   "cell_type": "markdown",
   "metadata": {},
   "source": [
    "### Dependancies"
   ]
  },
  {
   "cell_type": "code",
   "execution_count": 17,
   "metadata": {
    "colab": {
     "base_uri": "https://localhost:8080/",
     "height": 765
    },
    "colab_type": "code",
    "id": "yzq2ZiYX2SSp",
    "outputId": "ab679433-b533-49e5-ee86-1f6bf11e4da0"
   },
   "outputs": [
    {
     "name": "stderr",
     "output_type": "stream",
     "text": [
      "'wget' n’est pas reconnu en tant que commande interne\n",
      "ou externe, un programme exécutable ou un fichier de commandes.\n",
      "'wget' n’est pas reconnu en tant que commande interne\n",
      "ou externe, un programme exécutable ou un fichier de commandes.\n",
      "'wget' n’est pas reconnu en tant que commande interne\n",
      "ou externe, un programme exécutable ou un fichier de commandes.\n",
      "'wget' n’est pas reconnu en tant que commande interne\n",
      "ou externe, un programme exécutable ou un fichier de commandes.\n"
     ]
    }
   ],
   "source": [
    "!wget https://raw.githubusercontent.com/google-research/bert/master/modeling.py \n",
    "!wget https://raw.githubusercontent.com/google-research/bert/master/optimization.py \n",
    "!wget https://raw.githubusercontent.com/google-research/bert/master/run_squad.py \n",
    "!wget https://raw.githubusercontent.com/google-research/bert/master/tokenization.py"
   ]
  },
  {
   "cell_type": "code",
   "execution_count": null,
   "metadata": {
    "colab": {
     "base_uri": "https://localhost:8080/",
     "height": 564
    },
    "colab_type": "code",
    "id": "Poq-EXeM2XSa",
    "outputId": "fcd49f3e-98ef-4b7b-960b-dff099f32c45"
   },
   "outputs": [],
   "source": [
    "!wget https://rajpurkar.github.io/SQuAD-explorer/dataset/train-v2.0.json\n",
    "!wget https://rajpurkar.github.io/SQuAD-explorer/dataset/dev-v2.0.json\n",
    "!wget https://worksheets.codalab.org/rest/bundles/0x6b567e1cf2e041ec80d7098f031c5c9e/contents/blob/"
   ]
  },
  {
   "cell_type": "code",
   "execution_count": null,
   "metadata": {
    "colab": {
     "base_uri": "https://localhost:8080/",
     "height": 51
    },
    "colab_type": "code",
    "id": "YCGGJqfy2UOp",
    "outputId": "be85529c-5bba-4ea9-9cc0-429bb8ef93a7"
   },
   "outputs": [],
   "source": [
    "print(f'***** Model output directory: {OUTPUT_DIR} *****')\n",
    "print(f'***** BERT pretrained directory: {BERT_PRETRAINED_DIR} *****')"
   ]
  },
  {
   "cell_type": "markdown",
   "metadata": {
    "colab": {
     "base_uri": "https://localhost:8080/",
     "height": 68
    },
    "colab_type": "code",
    "id": "fb7LuV322ZQq",
    "outputId": "0fc93e52-04e2-4074-c424-30d3e777cd1f"
   },
   "source": [
    "# Training"
   ]
  },
  {
   "cell_type": "code",
   "execution_count": null,
   "metadata": {
    "colab": {},
    "colab_type": "code",
    "id": "uKkqAx0r2dwJ"
   },
   "outputs": [],
   "source": [
    "!python3 run_squad.py \\\n",
    "--vocab_file=model_repo/uncased_L-12_H-768_A-12/vocab.txt \\\n",
    "--bert_config_file=model_repo/uncased_L-12_H-768_A-12/bert_config.json \\\n",
    "--init_checkpoint=model_repo/uncased_L-12_H-768_A-12/bert_model.ckpt \\\n",
    "--do_train=True \\\n",
    "--train_file=train-v2.0.json \\\n",
    "--do_predict=False \\\n",
    "--predict_file=dev-v2.0.json \\\n",
    "--train_batch_size=24 \\\n",
    "--learning_rate=3e-5 \\\n",
    "--num_train_epochs=2.0 \\\n",
    "--max_seq_length=384 \\\n",
    "--doc_stride=128 \\\n",
    "--version_2_with_negative=True \\\n",
    "--output_dir=/kaggle/working/output\\\n",
    "--use_tpu=USE_TPU \\\n",
    "--tpu_name=TPU_ADDRESS "
   ]
  },
  {
   "cell_type": "markdown",
   "metadata": {},
   "source": [
    "# Evaluating"
   ]
  },
  {
   "cell_type": "code",
   "execution_count": 18,
   "metadata": {
    "colab": {},
    "colab_type": "code",
    "id": "vOS9ToNukKwa"
   },
   "outputs": [
    {
     "name": "stderr",
     "output_type": "stream",
     "text": [
      "Python was not found but can be installed from the Microsoft Store: https://go.microsoft.com/fwlink?linkID=2082640\n"
     ]
    }
   ],
   "source": [
    "!python3 run_squad.py \\\n",
    "--vocab_file=model_repo/uncased_L-12_H-768_A-12/vocab.txt \\\n",
    "--bert_config_file=model_repo/uncased_L-12_H-768_A-12/bert_config.json \\\n",
    "--init_checkpoint=model_repo/uncased_L-12_H-768_A-12/bert_model.ckpt \\\n",
    "--do_train=False \\\n",
    "--train_file=train-v2.0.json \\\n",
    "--do_predict=True \\\n",
    "--predict_file=dev-v2.0.json \\\n",
    "--train_batch_size=24 \\\n",
    "--learning_rate=3e-5 \\\n",
    "--num_train_epochs=2.0 \\\n",
    "--max_seq_length=384 \\\n",
    "--doc_stride=128 \\\n",
    "--version_2_with_negative=True \\\n",
    "--output_dir=/kaggle/working/output\\\n",
    "--use_tpu=USE_TPU \\\n",
    "--tpu_name=TPU_ADDRESS "
   ]
  },
  {
   "cell_type": "code",
   "execution_count": null,
   "metadata": {},
   "outputs": [],
   "source": []
  }
 ],
 "metadata": {
  "accelerator": "TPU",
  "colab": {
   "name": "Test finetune bert squad",
   "provenance": []
  },
  "kernelspec": {
   "display_name": "Python 3",
   "language": "python",
   "name": "python3"
  },
  "language_info": {
   "codemirror_mode": {
    "name": "ipython",
    "version": 3
   },
   "file_extension": ".py",
   "mimetype": "text/x-python",
   "name": "python",
   "nbconvert_exporter": "python",
   "pygments_lexer": "ipython3",
   "version": "3.7.4"
  }
 },
 "nbformat": 4,
 "nbformat_minor": 1
}
