{
 "cells": [
  {
   "cell_type": "code",
   "execution_count": 1,
   "metadata": {
    "colab": {
     "base_uri": "https://localhost:8080/",
     "height": 34
    },
    "colab_type": "code",
    "id": "7KVtbyMP14RV",
    "outputId": "0ea44910-1db5-49ac-cc0f-1d0a18b4f12f"
   },
   "outputs": [
    {
     "name": "stderr",
     "output_type": "stream",
     "text": [
      "UsageError: Line magic function `%tensorflow_version` not found.\n"
     ]
    }
   ],
   "source": [
    "import numpy as np # linear algebra\n",
    "import pandas as pd # data processing, CSV file I/O (e.g. pd.read_csv)\n",
    "import os\n",
    "# print(os.listdir(\"../input\"))\n",
    "\n",
    "import pprint\n",
    "%tensorflow_version 1.x\n",
    "import tensorflow as tf\n",
    "\n",
    "TPU_ADDRESS = 'grpc://' + os.environ['COLAB_TPU_ADDR']\n",
    "print('TPU address is => ', TPU_ADDRESS)\n",
    "# Any results you write to the current directory are saved as output."
   ]
  },
  {
   "cell_type": "code",
   "execution_count": 3,
   "metadata": {
    "colab": {},
    "colab_type": "code",
    "id": "IOBUQwKp2Foz"
   },
   "outputs": [],
   "source": [
    "import pandas as pd\n",
    "import os\n",
    "import numpy as np\n",
    "import pandas as pd\n",
    "import zipfile\n",
    "from matplotlib import pyplot as plt\n",
    "%matplotlib inline\n",
    "import sys\n",
    "import datetime"
   ]
  },
  {
   "cell_type": "code",
   "execution_count": 4,
   "metadata": {
    "colab": {
     "base_uri": "https://localhost:8080/",
     "height": 204
    },
    "colab_type": "code",
    "id": "mJDYds-N2Igp",
    "outputId": "23bd3fc1-e0ab-4934-a5f4-a2123c37a70f"
   },
   "outputs": [
    {
     "name": "stdout",
     "output_type": "stream",
     "text": [
      "--2020-02-06 11:51:05--  https://storage.googleapis.com/bert_models/2018_10_18/uncased_L-12_H-768_A-12.zip\n",
      "Résolution de storage.googleapis.com (storage.googleapis.com)… 2a00:1450:4007:812::2010, 172.217.22.144\n",
      "Connexion à storage.googleapis.com (storage.googleapis.com)|2a00:1450:4007:812::2010|:443… connecté.\n",
      "requête HTTP transmise, en attente de la réponse… 200 OK\n",
      "Taille : 407727028 (389M) [application/zip]\n",
      "Enregistre : «uncased_L-12_H-768_A-12.zip»\n",
      "\n",
      "uncased_L-12_H-768_ 100%[===================>] 388,84M  3,95MB/s    ds 89s     \n",
      "\n",
      "2020-02-06 11:52:35 (4,37 MB/s) - «uncased_L-12_H-768_A-12.zip» enregistré [407727028/407727028]\n",
      "\n"
     ]
    }
   ],
   "source": [
    "!wget https://storage.googleapis.com/bert_models/2018_10_18/uncased_L-12_H-768_A-12.zip"
   ]
  },
  {
   "cell_type": "code",
   "execution_count": 2,
   "metadata": {
    "colab": {},
    "colab_type": "code",
    "id": "HHd9sMAS2K04"
   },
   "outputs": [
    {
     "ename": "NameError",
     "evalue": "name 'zipfile' is not defined",
     "output_type": "error",
     "traceback": [
      "\u001b[0;31m---------------------------------------------------------------------------\u001b[0m",
      "\u001b[0;31mNameError\u001b[0m                                 Traceback (most recent call last)",
      "\u001b[0;32m<ipython-input-2-562e5fc2de17>\u001b[0m in \u001b[0;36m<module>\u001b[0;34m\u001b[0m\n\u001b[1;32m      1\u001b[0m \u001b[0mrepo\u001b[0m \u001b[0;34m=\u001b[0m \u001b[0;34m'model_repo'\u001b[0m\u001b[0;34m\u001b[0m\u001b[0;34m\u001b[0m\u001b[0m\n\u001b[0;32m----> 2\u001b[0;31m \u001b[0;32mwith\u001b[0m \u001b[0mzipfile\u001b[0m\u001b[0;34m.\u001b[0m\u001b[0mZipFile\u001b[0m\u001b[0;34m(\u001b[0m\u001b[0;34m\"uncased_L-12_H-768_A-12.zip\"\u001b[0m\u001b[0;34m,\u001b[0m\u001b[0;34m\"r\"\u001b[0m\u001b[0;34m)\u001b[0m \u001b[0;32mas\u001b[0m \u001b[0mzip_ref\u001b[0m\u001b[0;34m:\u001b[0m\u001b[0;34m\u001b[0m\u001b[0;34m\u001b[0m\u001b[0m\n\u001b[0m\u001b[1;32m      3\u001b[0m     \u001b[0mzip_ref\u001b[0m\u001b[0;34m.\u001b[0m\u001b[0mextractall\u001b[0m\u001b[0;34m(\u001b[0m\u001b[0mrepo\u001b[0m\u001b[0;34m)\u001b[0m\u001b[0;34m\u001b[0m\u001b[0;34m\u001b[0m\u001b[0m\n",
      "\u001b[0;31mNameError\u001b[0m: name 'zipfile' is not defined"
     ]
    }
   ],
   "source": [
    "repo = 'model_repo'\n",
    "with zipfile.ZipFile(\"uncased_L-12_H-768_A-12.zip\",\"r\") as zip_ref:\n",
    "    zip_ref.extractall(repo)"
   ]
  },
  {
   "cell_type": "code",
   "execution_count": 5,
   "metadata": {
    "colab": {
     "base_uri": "https://localhost:8080/",
     "height": 51
    },
    "colab_type": "code",
    "id": "QTJP_pV52NP5",
    "outputId": "0a722556-3b92-4f5d-a03e-39df369619fb"
   },
   "outputs": [
    {
     "name": "stdout",
     "output_type": "stream",
     "text": [
      "bert_config.json\t\t     bert_model.ckpt.index  vocab.txt\n",
      "bert_model.ckpt.data-00000-of-00001  bert_model.ckpt.meta\n"
     ]
    }
   ],
   "source": [
    "!ls 'model_repo/uncased_L-12_H-768_A-12'"
   ]
  },
  {
   "cell_type": "code",
   "execution_count": 6,
   "metadata": {
    "colab": {
     "base_uri": "https://localhost:8080/",
     "height": 34
    },
    "colab_type": "code",
    "id": "4wOLiEap2Pah",
    "outputId": "ecf10bd4-f605-4d84-de9a-0ec76aa710a1"
   },
   "outputs": [
    {
     "name": "stdout",
     "output_type": "stream",
     "text": [
      "uncased_L-12_H-768_A-12\n"
     ]
    }
   ],
   "source": [
    "!ls 'model_repo'"
   ]
  },
  {
   "cell_type": "code",
   "execution_count": 7,
   "metadata": {
    "colab": {
     "base_uri": "https://localhost:8080/",
     "height": 765
    },
    "colab_type": "code",
    "id": "yzq2ZiYX2SSp",
    "outputId": "ab679433-b533-49e5-ee86-1f6bf11e4da0"
   },
   "outputs": [
    {
     "name": "stdout",
     "output_type": "stream",
     "text": [
      "--2020-02-05 22:55:26--  https://raw.githubusercontent.com/google-research/bert/master/modeling.py\n",
      "Resolving raw.githubusercontent.com (raw.githubusercontent.com)... 151.101.0.133, 151.101.64.133, 151.101.128.133, ...\n",
      "Connecting to raw.githubusercontent.com (raw.githubusercontent.com)|151.101.0.133|:443... connected.\n",
      "HTTP request sent, awaiting response... 200 OK\n",
      "Length: 37922 (37K) [text/plain]\n",
      "Saving to: ‘modeling.py’\n",
      "\n",
      "\r",
      "modeling.py           0%[                    ]       0  --.-KB/s               \r",
      "modeling.py         100%[===================>]  37.03K  --.-KB/s    in 0.01s   \n",
      "\n",
      "2020-02-05 22:55:26 (2.93 MB/s) - ‘modeling.py’ saved [37922/37922]\n",
      "\n",
      "--2020-02-05 22:55:27--  https://raw.githubusercontent.com/google-research/bert/master/optimization.py\n",
      "Resolving raw.githubusercontent.com (raw.githubusercontent.com)... 151.101.0.133, 151.101.64.133, 151.101.128.133, ...\n",
      "Connecting to raw.githubusercontent.com (raw.githubusercontent.com)|151.101.0.133|:443... connected.\n",
      "HTTP request sent, awaiting response... 200 OK\n",
      "Length: 6258 (6.1K) [text/plain]\n",
      "Saving to: ‘optimization.py’\n",
      "\n",
      "optimization.py     100%[===================>]   6.11K  --.-KB/s    in 0s      \n",
      "\n",
      "2020-02-05 22:55:27 (115 MB/s) - ‘optimization.py’ saved [6258/6258]\n",
      "\n",
      "--2020-02-05 22:55:28--  https://raw.githubusercontent.com/google-research/bert/master/run_squad.py\n",
      "Resolving raw.githubusercontent.com (raw.githubusercontent.com)... 151.101.0.133, 151.101.64.133, 151.101.128.133, ...\n",
      "Connecting to raw.githubusercontent.com (raw.githubusercontent.com)|151.101.0.133|:443... connected.\n",
      "HTTP request sent, awaiting response... 200 OK\n",
      "Length: 46532 (45K) [text/plain]\n",
      "Saving to: ‘run_squad.py’\n",
      "\n",
      "run_squad.py        100%[===================>]  45.44K  --.-KB/s    in 0.02s   \n",
      "\n",
      "2020-02-05 22:55:28 (2.10 MB/s) - ‘run_squad.py’ saved [46532/46532]\n",
      "\n",
      "--2020-02-05 22:55:29--  https://raw.githubusercontent.com/google-research/bert/master/tokenization.py\n",
      "Resolving raw.githubusercontent.com (raw.githubusercontent.com)... 151.101.0.133, 151.101.64.133, 151.101.128.133, ...\n",
      "Connecting to raw.githubusercontent.com (raw.githubusercontent.com)|151.101.0.133|:443... connected.\n",
      "HTTP request sent, awaiting response... 200 OK\n",
      "Length: 12257 (12K) [text/plain]\n",
      "Saving to: ‘tokenization.py’\n",
      "\n",
      "tokenization.py     100%[===================>]  11.97K  --.-KB/s    in 0s      \n",
      "\n",
      "2020-02-05 22:55:29 (164 MB/s) - ‘tokenization.py’ saved [12257/12257]\n",
      "\n"
     ]
    }
   ],
   "source": [
    "!wget https://raw.githubusercontent.com/google-research/bert/master/modeling.py \n",
    "!wget https://raw.githubusercontent.com/google-research/bert/master/optimization.py \n",
    "!wget https://raw.githubusercontent.com/google-research/bert/master/run_squad.py \n",
    "!wget https://raw.githubusercontent.com/google-research/bert/master/tokenization.py"
   ]
  },
  {
   "cell_type": "code",
   "execution_count": 8,
   "metadata": {
    "colab": {
     "base_uri": "https://localhost:8080/",
     "height": 51
    },
    "colab_type": "code",
    "id": "YCGGJqfy2UOp",
    "outputId": "be85529c-5bba-4ea9-9cc0-429bb8ef93a7"
   },
   "outputs": [
    {
     "name": "stdout",
     "output_type": "stream",
     "text": [
      "***** Model output directory: model_repo/outputs *****\n",
      "***** BERT pretrained directory: model_repo/uncased_L-12_H-768_A-12 *****\n"
     ]
    }
   ],
   "source": [
    "BERT_MODEL = 'uncased_L-12_H-768_A-12'\n",
    "BERT_PRETRAINED_DIR = f'{repo}/uncased_L-12_H-768_A-12'\n",
    "OUTPUT_DIR = f'{repo}/outputs'\n",
    "print(f'***** Model output directory: {OUTPUT_DIR} *****')\n",
    "print(f'***** BERT pretrained directory: {BERT_PRETRAINED_DIR} *****')"
   ]
  },
  {
   "cell_type": "code",
   "execution_count": 9,
   "metadata": {
    "colab": {
     "base_uri": "https://localhost:8080/",
     "height": 564
    },
    "colab_type": "code",
    "id": "Poq-EXeM2XSa",
    "outputId": "fcd49f3e-98ef-4b7b-960b-dff099f32c45"
   },
   "outputs": [
    {
     "name": "stdout",
     "output_type": "stream",
     "text": [
      "--2020-02-05 22:55:30--  https://rajpurkar.github.io/SQuAD-explorer/dataset/train-v2.0.json\n",
      "Resolving rajpurkar.github.io (rajpurkar.github.io)... 185.199.109.153, 185.199.110.153, 185.199.108.153, ...\n",
      "Connecting to rajpurkar.github.io (rajpurkar.github.io)|185.199.109.153|:443... connected.\n",
      "HTTP request sent, awaiting response... 200 OK\n",
      "Length: 42123633 (40M) [application/json]\n",
      "Saving to: ‘train-v2.0.json’\n",
      "\n",
      "train-v2.0.json     100%[===================>]  40.17M  57.7MB/s    in 0.7s    \n",
      "\n",
      "2020-02-05 22:55:31 (57.7 MB/s) - ‘train-v2.0.json’ saved [42123633/42123633]\n",
      "\n",
      "--2020-02-05 22:55:31--  https://rajpurkar.github.io/SQuAD-explorer/dataset/dev-v2.0.json\n",
      "Resolving rajpurkar.github.io (rajpurkar.github.io)... 185.199.109.153, 185.199.110.153, 185.199.108.153, ...\n",
      "Connecting to rajpurkar.github.io (rajpurkar.github.io)|185.199.109.153|:443... connected.\n",
      "HTTP request sent, awaiting response... 200 OK\n",
      "Length: 4370528 (4.2M) [application/json]\n",
      "Saving to: ‘dev-v2.0.json’\n",
      "\n",
      "dev-v2.0.json       100%[===================>]   4.17M  --.-KB/s    in 0.09s   \n",
      "\n",
      "2020-02-05 22:55:32 (46.6 MB/s) - ‘dev-v2.0.json’ saved [4370528/4370528]\n",
      "\n",
      "--2020-02-05 22:55:32--  https://worksheets.codalab.org/rest/bundles/0x6b567e1cf2e041ec80d7098f031c5c9e/contents/blob/\n",
      "Resolving worksheets.codalab.org (worksheets.codalab.org)... 40.71.231.153\n",
      "Connecting to worksheets.codalab.org (worksheets.codalab.org)|40.71.231.153|:443... connected.\n",
      "ERROR: cannot verify worksheets.codalab.org's certificate, issued by ‘CN=Go Daddy Secure Certificate Authority - G2,OU=http://certs.godaddy.com/repository/,O=GoDaddy.com\\\\, Inc.,L=Scottsdale,ST=Arizona,C=US’:\n",
      "  Issued certificate has expired.\n",
      "To connect to worksheets.codalab.org insecurely, use `--no-check-certificate'.\n",
      "dev-v2.0.json  optimization.py\ttokenization.py\n",
      "modeling.py    run_squad.py\ttrain-v2.0.json\n",
      "model_repo     sample_data\tuncased_L-12_H-768_A-12.zip\n"
     ]
    }
   ],
   "source": [
    "!wget https://rajpurkar.github.io/SQuAD-explorer/dataset/train-v2.0.json\n",
    "!wget https://rajpurkar.github.io/SQuAD-explorer/dataset/dev-v2.0.json\n",
    "!wget https://worksheets.codalab.org/rest/bundles/0x6b567e1cf2e041ec80d7098f031c5c9e/contents/blob/\n",
    "\n",
    "!ls"
   ]
  },
  {
   "cell_type": "code",
   "execution_count": 10,
   "metadata": {
    "colab": {
     "base_uri": "https://localhost:8080/",
     "height": 68
    },
    "colab_type": "code",
    "id": "fb7LuV322ZQq",
    "outputId": "0fc93e52-04e2-4074-c424-30d3e777cd1f"
   },
   "outputs": [
    {
     "name": "stdout",
     "output_type": "stream",
     "text": [
      "mv: cannot stat 'index.html': No such file or directory\n",
      "bert_config.json\t\t     bert_model.ckpt.index  vocab.txt\n",
      "bert_model.ckpt.data-00000-of-00001  bert_model.ckpt.meta\n"
     ]
    }
   ],
   "source": [
    "!mv index.html evaluate-v2.0.py\n",
    "!ls model_repo/uncased_L-12_H-768_A-12"
   ]
  },
  {
   "cell_type": "code",
   "execution_count": 0,
   "metadata": {
    "colab": {},
    "colab_type": "code",
    "id": "PazbvbKR2b8J"
   },
   "outputs": [],
   "source": [
    "!mkdir output\n",
    "!pwd output/"
   ]
  },
  {
   "cell_type": "code",
   "execution_count": 0,
   "metadata": {
    "colab": {},
    "colab_type": "code",
    "id": "uKkqAx0r2dwJ"
   },
   "outputs": [],
   "source": [
    "!python3 run_squad.py \\\n",
    "--vocab_file=model_repo/uncased_L-12_H-768_A-12/vocab.txt \\\n",
    "--bert_config_file=model_repo/uncased_L-12_H-768_A-12/bert_config.json \\\n",
    "--init_checkpoint=model_repo/uncased_L-12_H-768_A-12/bert_model.ckpt \\\n",
    "--do_train=False \\\n",
    "--train_file=train-v2.0.json \\\n",
    "--do_predict=True \\\n",
    "--predict_file=dev-v2.0.json \\\n",
    "--train_batch_size=24 \\\n",
    "--learning_rate=3e-5 \\\n",
    "--num_train_epochs=2.0 \\\n",
    "--max_seq_length=384 \\\n",
    "--doc_stride=128 \\\n",
    "--version_2_with_negative=True \\\n",
    "--output_dir=/kaggle/working/output\\\n",
    "--use_tpu=True \\\n",
    "--tpu_name=grpc://10.12.254.146:8470 \n",
    "#--output_dir=gs://some_bucket/squad_large/ \\"
   ]
  },
  {
   "cell_type": "code",
   "execution_count": 0,
   "metadata": {
    "colab": {},
    "colab_type": "code",
    "id": "vOS9ToNukKwa"
   },
   "outputs": [],
   "source": []
  }
 ],
 "metadata": {
  "accelerator": "TPU",
  "colab": {
   "name": "Test finetune bert squad",
   "provenance": []
  },
  "kernelspec": {
   "display_name": "Python 3",
   "language": "python",
   "name": "python3"
  },
  "language_info": {
   "codemirror_mode": {
    "name": "ipython",
    "version": 3
   },
   "file_extension": ".py",
   "mimetype": "text/x-python",
   "name": "python",
   "nbconvert_exporter": "python",
   "pygments_lexer": "ipython3",
   "version": "3.7.3"
  }
 },
 "nbformat": 4,
 "nbformat_minor": 1
}
